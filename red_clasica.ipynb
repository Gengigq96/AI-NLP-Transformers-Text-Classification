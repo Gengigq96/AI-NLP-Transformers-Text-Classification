{
  "cells": [
    {
      "cell_type": "markdown",
      "metadata": {
        "id": "ktFg2jj3jTE6"
      },
      "source": [
        "# CLASIFICACIÓN DE TEXTO"
      ]
    },
    {
      "cell_type": "markdown",
      "metadata": {
        "id": "MZ-OuW5DiLJs"
      },
      "source": [
        "Se recorrerá todo el proceso desde traer el dataset hasta proceder a dicha clasificación. Durante la actividad se llevarán a cabo muchos procesos como la creación de un vocabulario, el uso de embeddings y la creación de modelos.\n",
        "\n",
        "Las cuestiones presentes en esta actividad están basadas en un Notebook creado por François Chollet, uno de los creadores de Keras y autor del libro \"Deep Learning with Python\".\n",
        "\n",
        "En este Notebook se trabaja con el dataset \"Newsgroup20\" que contiene aproximadamente 20000 mensajes que pertenecen a 20 categorías diferentes.\n",
        "\n",
        "El objetivo es entender los conceptos que se trabajan y ser capaz de hacer pequeñas experimentaciones para mejorar el Notebook creado."
      ]
    },
    {
      "cell_type": "markdown",
      "metadata": {
        "id": "hytURWLLjZvT"
      },
      "source": [
        "# Librerías"
      ]
    },
    {
      "cell_type": "code",
      "execution_count": null,
      "metadata": {
        "id": "DbxRuvOwkzSs"
      },
      "outputs": [],
      "source": [
        "import numpy as np\n",
        "import tensorflow as tf\n",
        "from tensorflow import keras"
      ]
    },
    {
      "cell_type": "markdown",
      "metadata": {
        "id": "PXfYbCflkQYy"
      },
      "source": [
        "# Descarga de Datos"
      ]
    },
    {
      "cell_type": "code",
      "execution_count": null,
      "metadata": {
        "colab": {
          "base_uri": "https://localhost:8080/"
        },
        "id": "e-1ZhOf3lB_A",
        "outputId": "379cc9e7-cd4e-46e9-9949-e3d25415a0ac"
      },
      "outputs": [
        {
          "name": "stdout",
          "output_type": "stream",
          "text": [
            "Downloading data from http://www.cs.cmu.edu/afs/cs.cmu.edu/project/theo-20/www/data/news20.tar.gz\n",
            "17329808/17329808 [==============================] - 31s 2us/step\n"
          ]
        }
      ],
      "source": [
        "data_path = keras.utils.get_file(\n",
        "    \"news20.tar.gz\",\n",
        "    \"http://www.cs.cmu.edu/afs/cs.cmu.edu/project/theo-20/www/data/news20.tar.gz\",\n",
        "    untar=True,\n",
        ")"
      ]
    },
    {
      "cell_type": "code",
      "execution_count": null,
      "metadata": {
        "colab": {
          "base_uri": "https://localhost:8080/"
        },
        "id": "l3ygvoWhlCYj",
        "outputId": "4227e616-9f01-4929-ae6e-2b635789a5b1"
      },
      "outputs": [
        {
          "name": "stdout",
          "output_type": "stream",
          "text": [
            "Number of directories: 20\n",
            "Directory names: ['sci.electronics', 'sci.space', 'alt.atheism', 'soc.religion.christian', 'misc.forsale', 'talk.politics.mideast', 'rec.sport.hockey', 'sci.med', 'comp.os.ms-windows.misc', 'talk.politics.guns', 'rec.motorcycles', 'comp.windows.x', 'comp.sys.mac.hardware', 'rec.sport.baseball', 'rec.autos', 'sci.crypt', 'talk.politics.misc', 'comp.graphics', 'talk.religion.misc', 'comp.sys.ibm.pc.hardware']\n"
          ]
        }
      ],
      "source": [
        "import os\n",
        "import pathlib\n",
        "\n",
        "#Estructura de directorios del dataset\n",
        "data_dir = pathlib.Path(data_path).parent / \"20_newsgroup\"\n",
        "dirnames = os.listdir(data_dir)\n",
        "print(\"Number of directories:\", len(dirnames))\n",
        "print(\"Directory names:\", dirnames)"
      ]
    },
    {
      "cell_type": "code",
      "execution_count": null,
      "metadata": {
        "colab": {
          "base_uri": "https://localhost:8080/"
        },
        "id": "rs2Hl3yh3YtQ",
        "outputId": "d2ff4abd-162b-445d-86af-d10ef19a1b5d"
      },
      "outputs": [
        {
          "name": "stdout",
          "output_type": "stream",
          "text": [
            "/root/.keras/datasets/20_newsgroup\n"
          ]
        }
      ],
      "source": [
        "print(data_dir)"
      ]
    },
    {
      "cell_type": "code",
      "execution_count": null,
      "metadata": {
        "colab": {
          "base_uri": "https://localhost:8080/"
        },
        "id": "isgVDBL9FS7-",
        "outputId": "bc2eb99a-d3a4-4e10-e0d3-005b682b4b5d"
      },
      "outputs": [
        {
          "name": "stdout",
          "output_type": "stream",
          "text": [
            "290.73333333333335\n"
          ]
        }
      ],
      "source": [
        "import spacy\n",
        "import en_core_web_sm\n",
        "nlp = en_core_web_sm.load()\n",
        "fnames = os.listdir(data_dir / \"comp.graphics\")\n",
        "total_tokens=0\n",
        "for i in (range(15)):\n",
        "    doc = nlp(pathlib.Path(data_dir / \"comp.graphics\" / fnames[i]).read_text(encoding=\"latin-1\"))\n",
        "    doc.__len__()\n",
        "    total_tokens+=doc.__len__()\n",
        "\n",
        "average_tokens = total_tokens/15\n",
        "\n",
        "print(average_tokens)"
      ]
    },
    {
      "cell_type": "code",
      "execution_count": null,
      "metadata": {
        "colab": {
          "base_uri": "https://localhost:8080/"
        },
        "id": "OG8rjgOFlcaV",
        "outputId": "f774fd9d-1ed0-4309-906f-68c12d3971d5"
      },
      "outputs": [
        {
          "name": "stdout",
          "output_type": "stream",
          "text": [
            "Number of files in comp.graphics: 1000\n",
            "Some example filenames: ['39048', '38295', '38549', '38228', '38700']\n"
          ]
        }
      ],
      "source": [
        "#Algunos archivos de la categoria \"com.graphics\"\n",
        "fnames = os.listdir(data_dir / \"comp.graphics\")\n",
        "print(\"Number of files in comp.graphics:\", len(fnames))\n",
        "print(\"Some example filenames:\", fnames[:5])"
      ]
    },
    {
      "cell_type": "code",
      "execution_count": null,
      "metadata": {
        "colab": {
          "base_uri": "https://localhost:8080/"
        },
        "id": "8ox6s6z9lgps",
        "outputId": "8e7c2b91-078b-4539-bd3e-d852b040cbb2"
      },
      "outputs": [
        {
          "name": "stdout",
          "output_type": "stream",
          "text": [
            "Xref: cantaloupe.srv.cs.cmu.edu comp.graphics:37261 alt.graphics:519 comp.graphics.animation:2614\n",
            "Path: cantaloupe.srv.cs.cmu.edu!das-news.harvard.edu!ogicse!uwm.edu!zaphod.mps.ohio-state.edu!darwin.sura.net!dtix.dt.navy.mil!oasys!lipman\n",
            "From: lipman@oasys.dt.navy.mil (Robert Lipman)\n",
            "Newsgroups: comp.graphics,alt.graphics,comp.graphics.animation\n",
            "Subject: CALL FOR PRESENTATIONS: Navy SciViz/VR Seminar\n",
            "Message-ID: <32850@oasys.dt.navy.mil>\n",
            "Date: 19 Mar 93 20:10:23 GMT\n",
            "Article-I.D.: oasys.32850\n",
            "Expires: 30 Apr 93 04:00:00 GMT\n",
            "Reply-To: lipman@oasys.dt.navy.mil (Robert Lipman)\n",
            "Followup-To: comp.graphics\n",
            "Distribution: usa\n",
            "Organization: Carderock Division, NSWC, Bethesda, MD\n",
            "Lines: 65\n",
            "\n",
            "\n",
            "\t\t\tCALL FOR PRESENTATIONS\n",
            "\t\n",
            "      NAVY SCIENTIFIC VISUALIZATION AND VIRTUAL REALITY SEMINAR\n",
            "\n",
            "\t\t\tTuesday, June 22, 1993\n",
            "\n",
            "\t    Carderock Division, Naval Surface Warfare Center\n",
            "\t      (formerly the David Taylor Research Center)\n",
            "\t\t\t  Bethesda, Maryland\n",
            "\n",
            "SPONSOR: NESS (Navy Engineering Software System) is sponsoring a \n",
            "one-day Navy Scientific Visualization and Virtual Reality Seminar.  \n",
            "The purpose of the seminar is to present and exchange information for\n",
            "Navy-related scientific visualization and virtual reality programs, \n",
            "research, developments, and applications.\n",
            "\n",
            "PRESENTATIONS: Presentations are solicited on all aspects of \n",
            "Navy-related scientific visualization and virtual reality.  All \n",
            "current work, works-in-progress, and proposed work by Navy \n",
            "organizations will be considered.  Four types of presentations are \n",
            "available.\n",
            "\n",
            "     1. Regular presentation: 20-30 minutes in length\n",
            "     2. Short presentation: 10 minutes in length\n",
            "     3. Video presentation: a stand-alone videotape (author need not \n",
            "\tattend the seminar)\n",
            "     4. Scientific visualization or virtual reality demonstration (BYOH)\n",
            "\n",
            "Accepted presentations will not be published in any proceedings, \n",
            "however, viewgraphs and other materials will be reproduced for \n",
            "seminar attendees.\n",
            "\n",
            "ABSTRACTS: Authors should submit a one page abstract and/or videotape to:\n",
            "\n",
            "     Robert Lipman\n",
            "     Naval Surface Warfare Center, Carderock Division\n",
            "     Code 2042\n",
            "     Bethesda, Maryland  20084-5000\n",
            "\n",
            "     VOICE (301) 227-3618;  FAX (301) 227-5753  \n",
            "     E-MAIL  lipman@oasys.dt.navy.mil\n",
            "\n",
            "Authors should include the type of presentation, their affiliations, \n",
            "addresses, telephone and FAX numbers, and addresses.  Multi-author \n",
            "papers should designate one point of contact.\n",
            "\n",
            "DEADLINES: The abstact submission deadline is April 30, 1993.  \n",
            "Notification of acceptance will be sent by May 14, 1993.  \n",
            "Materials for reproduction must be received by June 1, 1993.\n",
            "\n",
            "For further information, contact Robert Lipman at the above address.\n",
            "\n",
            "\t  PLEASE DISTRIBUTE AS WIDELY AS POSSIBLE, THANKS.\n",
            "\n",
            "\n",
            "\n",
            "\n",
            "Robert Lipman                     | Internet: lipman@oasys.dt.navy.mil\n",
            "David Taylor Model Basin - CDNSWC |       or: lip@ocean.dt.navy.mil\n",
            "Computational Signatures and      | Voicenet: (301) 227-3618\n",
            "   Structures Group, Code 2042    | Factsnet: (301) 227-5753\n",
            "Bethesda, Maryland  20084-5000    | Phishnet: stockings@long.legs\n",
            "\t\t\t\t   \n",
            "The sixth sick shiek's sixth sheep's sick.\n",
            "\n"
          ]
        }
      ],
      "source": [
        "#Ejemplo de un texto de la categoría \"com.graphics\"\n",
        "print(open(data_dir / \"comp.graphics\" / \"37261\").read())\n",
        "\n",
        "#lines = open(data_dir / \"comp.graphics\" / \"37261\").read().split(\"\\n\")\n",
        "#lines = lines[10:]\n",
        "#content = \"\\n\".join(lines)\n",
        "#print(content)"
      ]
    },
    {
      "cell_type": "code",
      "execution_count": null,
      "metadata": {
        "colab": {
          "base_uri": "https://localhost:8080/"
        },
        "id": "vUbbjI8plaG0",
        "outputId": "a104daf9-5617-414d-e4f1-5544091b458c"
      },
      "outputs": [
        {
          "name": "stdout",
          "output_type": "stream",
          "text": [
            "Number of files in talk.politics.misc: 1000\n",
            "Some example filenames: ['176868', '176922', '178817', '178883', '179091']\n"
          ]
        }
      ],
      "source": [
        "#Algunos archivos de la categoria \"talk.politics.misc\"\n",
        "fnames = os.listdir(data_dir / \"talk.politics.misc\")\n",
        "print(\"Number of files in talk.politics.misc:\", len(fnames))\n",
        "print(\"Some example filenames:\", fnames[:5])"
      ]
    },
    {
      "cell_type": "code",
      "execution_count": null,
      "metadata": {
        "colab": {
          "base_uri": "https://localhost:8080/"
        },
        "id": "izZGWhpklCbI",
        "outputId": "fc2b4d69-c105-45f7-dc3f-a22ab1dbf9d7"
      },
      "outputs": [
        {
          "name": "stdout",
          "output_type": "stream",
          "text": [
            "Xref: cantaloupe.srv.cs.cmu.edu talk.politics.guns:54219 talk.politics.misc:178463\n",
            "Newsgroups: talk.politics.guns,talk.politics.misc\n",
            "Path: cantaloupe.srv.cs.cmu.edu!magnesium.club.cc.cmu.edu!news.sei.cmu.edu!cis.ohio-state.edu!magnus.acs.ohio-state.edu!usenet.ins.cwru.edu!agate!spool.mu.edu!darwin.sura.net!martha.utcc.utk.edu!FRANKENSTEIN.CE.UTK.EDU!VEAL\n",
            "From: VEAL@utkvm1.utk.edu (David Veal)\n",
            "Subject: Re: Proof of the Viability of Gun Control\n",
            "Message-ID: <VEAL.749.735192116@utkvm1.utk.edu>\n",
            "Lines: 21\n",
            "Sender: usenet@martha.utcc.utk.edu (USENET News System)\n",
            "Organization: University of Tennessee Division of Continuing Education\n",
            "References: <1qpbqd$ntl@access.digex.net> <C5otvp.ItL@magpie.linknet.com>\n",
            "Date: Mon, 19 Apr 1993 04:01:56 GMT\n",
            "\n",
            "[alt.drugs and alt.conspiracy removed from newsgroups line.]\n",
            "\n",
            "In article <C5otvp.ItL@magpie.linknet.com> neal@magpie.linknet.com (Neal) writes:\n",
            "\n",
            ">   Once the National Guard has been called into federal service,\n",
            ">it is under the command of the present. Tha National Guard, though\n",
            ">defined as the \"Militia\" in the statutes, is actually a reserve component\n",
            ">of the United State Army, and was formed pursuant to the power of Congress\n",
            ">to raise and support Armies.\n",
            "\n",
            "       That's the really cute thing about saying the 2nd amendment\n",
            "only covers the national guard, because that would mean that it\n",
            "essentially prohibits the federal government from disarming a branch\n",
            "of the federal government.\n",
            "\n",
            "       Sounds like a real limit to federal power to me.\n",
            "------------------------------------------------------------------------\n",
            "David Veal Univ. of Tenn. Div. of Cont. Education Info. Services Group\n",
            "PA146008@utkvm1.utk.edu - \"I still remember the way you laughed, the day\n",
            "your pushed me down the elevator shaft;  I'm beginning to think you don't\n",
            "love me anymore.\" - \"Weird Al\"\n",
            "\n"
          ]
        }
      ],
      "source": [
        "#Ejemplo de un texto de la categoría \"talk.politics.misc\"\n",
        "print(open(data_dir / \"talk.politics.misc\" / \"178463\").read())"
      ]
    },
    {
      "cell_type": "code",
      "execution_count": null,
      "metadata": {
        "id": "065tHPFg3aBq"
      },
      "outputs": [],
      "source": [
        "list_all_dir = [\n",
        "    'alt.atheism',\n",
        "    'comp.graphics',\n",
        "    'comp.sys.mac.hardware',\n",
        "    'comp.windows.x',\n",
        "    'misc.forsale',\n",
        "    'rec.autos',\n",
        "    'rec.sport.baseball',\n",
        "    'rec.sport.hockey',\n",
        "    'sci.crypt',\n",
        "    'sci.med',\n",
        "    'sci.space',\n",
        "    'soc.religion.christian',\n",
        "    'talk.politics.guns',\n",
        "    'talk.politics.misc',\n",
        "    'talk.religion.misc'\n",
        "]"
      ]
    },
    {
      "cell_type": "code",
      "execution_count": null,
      "metadata": {
        "colab": {
          "base_uri": "https://localhost:8080/"
        },
        "id": "33Ay5U6blCd1",
        "outputId": "489ff7d7-6fc4-4151-a991-26e8a4034bec"
      },
      "outputs": [
        {
          "name": "stdout",
          "output_type": "stream",
          "text": [
            "Processing alt.atheism, 1000 files found\n",
            "Processing comp.graphics, 1000 files found\n",
            "Processing comp.sys.mac.hardware, 1000 files found\n",
            "Processing comp.windows.x, 1000 files found\n",
            "Processing misc.forsale, 1000 files found\n",
            "Processing rec.autos, 1000 files found\n",
            "Processing rec.sport.baseball, 1000 files found\n",
            "Processing rec.sport.hockey, 1000 files found\n",
            "Processing sci.crypt, 1000 files found\n",
            "Processing sci.med, 1000 files found\n",
            "Processing sci.space, 1000 files found\n",
            "Processing soc.religion.christian, 997 files found\n",
            "Processing talk.politics.guns, 1000 files found\n",
            "Processing talk.politics.misc, 1000 files found\n",
            "Processing talk.religion.misc, 1000 files found\n",
            "Classes: ['alt.atheism', 'comp.graphics', 'comp.sys.mac.hardware', 'comp.windows.x', 'misc.forsale', 'rec.autos', 'rec.sport.baseball', 'rec.sport.hockey', 'sci.crypt', 'sci.med', 'sci.space', 'soc.religion.christian', 'talk.politics.guns', 'talk.politics.misc', 'talk.religion.misc']\n",
            "Number of samples: 14997\n"
          ]
        }
      ],
      "source": [
        "samples = []\n",
        "labels = []\n",
        "class_names = []\n",
        "class_index = 0\n",
        "for dirname in list_all_dir:\n",
        "    class_names.append(dirname)\n",
        "    dirpath = data_dir / dirname\n",
        "    fnames = os.listdir(dirpath)\n",
        "    print(\"Processing %s, %d files found\" % (dirname, len(fnames)))\n",
        "    for fname in fnames:\n",
        "        fpath = dirpath / fname\n",
        "        f = open(fpath, encoding=\"latin-1\")\n",
        "        content = f.read()\n",
        "        lines = content.split(\"\\n\")\n",
        "        lines = lines[10:]\n",
        "        content = \"\\n\".join(lines)\n",
        "        samples.append(content)\n",
        "        labels.append(class_index)\n",
        "    class_index += 1\n",
        "\n",
        "print(\"Classes:\", class_names)\n",
        "print(\"Number of samples:\", len(samples))"
      ]
    },
    {
      "cell_type": "markdown",
      "metadata": {
        "id": "n2pmvE6gMcxT"
      },
      "source": [
        "# Mezclando los datos para separarlos en Traning y Test"
      ]
    },
    {
      "cell_type": "code",
      "execution_count": null,
      "metadata": {
        "id": "DYX7x-k_lCgZ"
      },
      "outputs": [],
      "source": [
        "# Shuffle the data\n",
        "seed = 1337\n",
        "rng = np.random.RandomState(seed)\n",
        "rng.shuffle(samples)\n",
        "rng = np.random.RandomState(seed)\n",
        "rng.shuffle(labels)\n",
        "keras.utils.set_random_seed(seed)\n",
        "\n",
        "# Extract a training & validation split\n",
        "validation_split = 0.2\n",
        "num_validation_samples = int(validation_split * len(samples))\n",
        "train_samples = samples[:-num_validation_samples]\n",
        "val_samples   = samples[-num_validation_samples:]\n",
        "train_labels  = labels[:-num_validation_samples]\n",
        "val_labels    = labels[-num_validation_samples:]"
      ]
    },
    {
      "cell_type": "code",
      "execution_count": null,
      "metadata": {
        "colab": {
          "base_uri": "https://localhost:8080/"
        },
        "id": "c-05yDU2FS8A",
        "outputId": "cfbd6965-eb80-4e12-e615-45428a532913"
      },
      "outputs": [
        {
          "name": "stdout",
          "output_type": "stream",
          "text": [
            "2999\n"
          ]
        }
      ],
      "source": [
        "print(num_validation_samples)"
      ]
    },
    {
      "cell_type": "code",
      "execution_count": null,
      "metadata": {
        "colab": {
          "base_uri": "https://localhost:8080/"
        },
        "id": "rdfEAetuFS8A",
        "outputId": "fe34b581-a3a9-4cb0-a88e-49efb5b3f3b5"
      },
      "outputs": [
        {
          "name": "stdout",
          "output_type": "stream",
          "text": [
            "['Organization: University of North Carolina, Chapel Hill\\nKeywords: Frequently Asked Questions\\nApproved: news-answers-request@MIT.Edu\\nSupersedes: <intro_730956346@cs.unc.edu>\\nNNTP-Posting-Host: mahler.cs.unc.edu\\nLines: 310\\n\\nArchive-name: space/intro\\nLast-modified: $Date: 93/04/01 14:39:10 $\\n\\n    FREQUENTLY ASKED QUESTIONS ON SCI.SPACE/SCI.ASTRO\\n\\n    INTRODUCTION\\n\\n    This series of linked messages is periodically posted to the Usenet\\ngroups sci.space and sci.astro in an attempt to provide good answers to\\nfrequently asked questions and other reference material which is worth\\npreserving. If you have corrections or answers to other frequently asked\\nquestions that you would like included in this posting, send email to\\nleech@cs.unc.edu (Jon Leech).\\n\\n    If you don\\'t want to see the FAQ, add \\'Frequently Asked Questions\\' to\\nyour KILL file for this group (if you\\'re not reading this with a newsreader\\nthat can kill articles by subject, you\\'re out of luck).\\n\\n    The FAQ volume is excessive right now and will hopefully be trimmed down\\nby rewriting and condensing over time. The FAQ postings are available in\\nthe Ames SPACE archive in FAQ/faq<#>.\\n\\n    Good summaries will be accepted in place of the answers given here. The\\npoint of this is to circulate existing information, and avoid rehashing old\\nanswers. Better to build on top than start again. Nothing more depressing\\nthan rehashing old topics for the 100th time. References are provided\\nbecause they give more complete information than any short generalization.\\n\\n    Questions fall into three basic types:\\n\\n    1) Where do I find some information about space?\\n\\n    Try your local public library first. The net is not a good place to ask\\n    for general information. Ask INDIVIDUALS (by email) if you must. There\\n    are other sources, use them, too. The net is a place for open ended\\n    discussion.\\n\\n    2) I have an idea which would improve space flight?\\n\\n    Hope you aren\\'t surprised, but 9,999 out of 10,000 have usually been\\n    thought of before. Again, contact a direct individual source for\\n    evaluation. NASA fields thousands of these each day.\\n\\n    3) Miscellanous queries.\\n\\n    These are addressed on a case-by-case basis in the following series of\\n    FAQ postings.\\n\\n\\n    SUGGESTIONS FOR BETTER NETIQUETTE\\n\\n    Read news.announce.newusers if you\\'re on Usenet.\\n    Minimize cross references, [Do you REALLY NEED to?]\\n    Edit \"Subject:\" lines, especially if you\\'re taking a tangent.\\n    Send mail instead, avoid posting follow ups. (1 mail message worth\\n\\t100 posts).\\n    Internet mail readers: send requests to add/drop to SPACE-REQUEST\\n\\tnot SPACE.\\n    Read all available articles before posting a follow-up. (Check all\\n\\treferences.)\\n    Cut down attributed articles (leave only the points you\\'re\\n\\tresponding to; remove signatures and headers). Summarize!\\n    Put a return address in the body (signature) of your message (mail\\n\\tor article), state your institution, etc. Don\\'t assume the\\n\\t\\'reply\\' function of mailers will work.\\n    Use absolute dates. Post in a timely way. Don\\'t post what everyone\\n\\twill get on TV anyway.\\n    Some editors and window systems do character count line wrapping:\\n\\tkeep lines under 80 characters for those using ASCII terminals\\n\\t(use carriage returns).\\n\\n\\n    INDEX TO LINKED POSTINGS\\n\\n    I\\'ve attempted to break the postings up into related areas. There isn\\'t\\n    a keyword index yet; the following lists the major subject areas in each\\n    posting. Only those containing astronomy-related material are posted to\\n    sci.astro (indicated by \\'*\\' following the posting number).\\n\\n    #\\tContents\\n\\n    1*\\tIntroduction\\n\\t    Suggestions for better netiquette\\n\\t    Index to linked postings\\n\\t    Notes on addresses, phone numbers, etc.\\n\\t    Contributors\\n\\n    2*\\tNetwork resources\\n\\t    Overview\\n\\t    Mailing lists\\n\\t    Periodically updated information\\n\\t    Warning about non-public networks\\n\\n    3*\\tOnline (and some offline) sources of images, data, etc.\\n\\t    Introduction\\n\\t    Viewing Images\\n\\t    Online Archives\\n\\t\\tNASA Ames\\n\\t\\tNASA Astrophysics Data System\\n\\t\\tNASA Jet Propulsion Lab (Mission Information and Images)\\n\\t\\tNASA Langley (Technical Reports)\\n\\t\\tNASA Spacelink\\n\\t\\tNational Space Science Data Center\\n\\t\\tSpace Telescope Science Institute Electronic Info. Service\\n\\t\\tStarcat\\n\\t\\tAstronomical Databases\\n\\t\\tAstronomy Programs\\n\\t\\tOrbital Element Sets\\n\\t\\tSPACE Digest\\n\\t    Landsat & NASA Photos\\n\\t    Planetary Maps\\n\\t    Cometary Orbits\\n\\n    4*\\tPerforming calculations and interpreting data formats\\n\\t    Computing spacecraft orbits and trajectories\\n\\t    Computing planetary positions\\n\\t    Computing crater diameters from Earth-impacting asteroids\\n\\t    Map projections and spherical trignometry\\n\\t    Performing N-body simulations efficiently\\n\\t    Interpreting the FITS image format\\n\\t    Sky (Unix ephemeris program)\\n\\t    Three-dimensional star/galaxy coordinates\\n\\n    5*\\tReferences on specific areas\\n\\t    Publishers of space/astronomy material\\n\\t    Careers in the space industry\\n\\t    DC-X single-stage to orbit (SSTO) program\\n\\t    How to name a star after a person\\n\\t    LLNL \"great exploration\"\\n\\t    Lunar Prospector\\n\\t    Lunar science and activities\\n\\t    Orbiting Earth satellite histories\\n\\t    Spacecraft models\\n\\t    Rocket propulsion\\n\\t    Spacecraft design\\n\\t    Esoteric propulsion schemes (solar sails, lasers, fusion...)\\n\\t    Spy satellites\\n\\t    Space shuttle computer systems\\n\\t    SETI computation (signal processing)\\n\\t    Amateur satellies & weather satellites\\n\\t    Tides\\n\\n    6*\\tConstants and equations for calculations\\n\\n    7*\\tAstronomical Mnemonics\\n\\n    8\\tContacting NASA, ESA, and other space agencies/companies\\n\\t    NASA Centers / Arianespace / ESA / NASDA / Soyuzkarta / Space\\n\\t\\tCamp / Space Commerce Corporation / Spacehab / SPOT Image\\n\\t    Other commercial space businesses\\n\\n    9\\tSpace shuttle answers, launch schedules, TV coverage\\n\\t    Shuttle launchings and landings; schedules and how to see them\\n\\t    Why does the shuttle roll just after liftoff?\\n\\t    How to receive the NASA TV channel, NASA SELECT\\n\\t    Amateur radio frequencies for shuttle missions\\n\\t    Solid Rocket Booster fuel composition\\n\\n    10\\tPlanetary probes - Historical Missions\\n\\t    US planetary missions\\n\\t    Mariner (Venus, Mars, & Mercury flybys and orbiters)\\n\\t    Pioneer (Moon, Sun, Venus, Jupiter, and Saturn flybys and orbiters)\\n\\t    Ranger (Lunar lander and impact missions)\\n\\t    Lunar Orbiter (Lunar surface photography)\\n\\t    Surveyor (Lunar soft landers)\\n\\t    Viking (Mars orbiters and landers)\\n\\t    Voyager (Outer planet flybys)\\n\\t    Soviet planetary missions\\n\\t    Soviet Lunar probes\\n\\t    Soviet Venus probes\\n\\t    Soviet Mars probes\\n\\t    Japanese planetary missions\\n\\t    Planetary mission references\\n\\n    11\\tUpcoming planetary probes - missions and schedules\\n\\t    Cassini\\n\\t    Galileo\\n\\t    Magellan\\n\\t    Mars Observer\\n\\t    TOPEX/Poseidon\\n\\t    Ulysses\\n\\t    Other space science missions\\n\\t    Proposed missions\\n\\n    12\\tControversial questions\\n\\t    What happened to the Saturn V plans\\n\\t    Why data from space missions isn\\'t immediately available\\n\\t    Risks of nuclear (RTG) power sources for space probes\\n\\t    Impact of the space shuttle on the ozone layer\\n\\t    How long can a human live unprotected in space\\n\\t    How the Challenger astronauts died\\n\\t    Using the shuttle beyond Low Earth Orbit\\n\\t    The \"Face on Mars\"\\n\\n    13\\tSpace activist/interest/research groups and space publications\\n\\t    Groups\\n\\t    Publications\\n\\t    Undocumented Groups\\n\\n    14\\tHow to become an astronaut\\n\\n    15\\tOrbital and Planetary Launch Services\\n\\n\\n    NOTES ON ADDRESSES, PHONE NUMBERS, ETC.\\n\\n    Unless otherwise specified, telephone numbers, addresses, and so on are\\n    for the United States of America. Non-US readers should remember to add\\n    the country code for telephone calls, etc.\\n\\n\\n    CREDITS\\n\\n    Eugene Miya started a series of linked FAQ postings some years ago which\\n    inspired (and was largely absorbed into) this set.\\n\\n    Peter Yee and Ron Baalke have and continue to spend a lot of their own\\n    time setting up the SPACE archives at NASA Ames and forwarding official\\n    NASA announcements.\\n\\n    Many other people have contributed material to this list in the form of\\n    old postings to sci.space and sci.astro which I\\'ve edited. Please let me\\n    know if corrections need to be made. Contributors I\\'ve managed to keep\\n    track of are:\\n\\n    0004847546@mcimail.com (Francis Reddy)\\t- map projections\\n    ad038@yfn.ysu.edu (Steven Fisk)\\t\\t- publication refs.\\n    akerman@bill.phy.queensu.CA (Richard Akerman)   - crater diameters\\n    alweigel@athena.mit.edu (Lisa Weigel)\\t- SEDS info\\n    aoab314@emx.utexas.edu (Srinivas Bettadpur) - tides\\n    awpaeth@watcgl.waterloo.edu (Alan Wm Paeth) - map projections\\n    aws@iti.org (Allen W. Sherzer)\\t\\t- Great Exploration\\n    baalke@kelvin.jpl.nasa.gov (Ron Baalke)\\t- planetary probe schedules\\n    bankst@rata.vuw.ac.nz (Timothy Banks)\\t- map projections,\\n\\tvariable star analysis archive\\n    bern@uni-trier.de (Jochen Bern)\\t\\t- German mnemonic translation\\n    brosen@pioneer.arc.nasa.gov (Bernie Rosen)\\t- Space Camp\\n    bschlesinger@nssdca.gsfc.nasa.gov (Barry Schlesinger)   - FITS format\\n    cew@venera.isi.edu (Craig E. Ward)\\t\\t- space group contact info\\n    chapin@cbnewsc.att.com (Tom Chapin)\\t\\t- planetary positions\\n    cunnida@tenet.edu (D. Alan Cunningham)\\t- NASA Spacelink\\n    cyamamot@kilroy.Jpl.Nasa.Gov (Cliff Yamamoto) - orbital elements\\n    datri@convex.com (Anthony Datri)\\t\\t- PDS/VICAR viewing software\\n    daver@sjc.mentorg.com (Dave Rickel)\\t\\t- orbit formulae\\n    dlbres10@pc.usl.edu (Phil Fraering)\\t\\t- propulsion\\n    eder@hsvaic.boeing.com (Dani Eder)\\t\\t- Saturn V plans, SRBs\\n    eugene@eos.arc.nasa.gov (Eugene N. Miya)\\t- introduction,\\n\\tNASA contact info, started FAQ postings\\n    french@isu.isunet.edu (Patrick M. French)\\t- space group contact info\\n    g@telesoft.com (Gary Morris)\\t\\t- amateur radio info\\n    gaetz@cfa.harvard.edu (Terry Gaetz)\\t\\t- N-body calculations,\\n\\torbital dynamics\\n    grandi@noao.edu (Steve Grandi)\\t\\t- planetary positions\\n    greer%utd201.dnet%utadnx@utspan.span.nasa.gov (Dale M. Greer)   - constants\\n    henry@zoo.toronto.edu (Henry Spencer)\\t- survival in vacuum,\\n\\tastronaut how-to, Challenger disaster, publication refs, DC-X\\n    higgins@fnal.bitnet (William Higgins)\\t- RTGs, publishers,\\n\\tshuttle landings, spysats, propulsion, \"Face on Mars\"\\n    hmueller@cssun.tamu.edu (Hal Mueller)\\t- map projections,\\n\\torbital dynamics\\n    jbh55289@uxa.cso.uiuc.edu (Josh Hopkins)\\t- launch services\\n    jim@pnet01.cts.com (Jim Bowery)\\t\\t- propulsion, launch services\\n    jnhead@pirl.lpl.arizona.edu (James N. Head) - atmospheric scale heights\\n    jscotti@lpl.arizona.edu (Jim Scotti)\\t- planetary positions\\n    kcarroll@zoo.toronto.edu (Kieran A. Carroll)- refs for spacecraft design\\n    ken@orion.bitnet (Kenneth Ng)\\t\\t- RTGs\\n    kjenks@gothamcity.jsc.nasa.gov (Ken Jenks)\\t- shuttle roll manuever\\n    klaes@verga.enet.dec.com (Larry Klaes)\\t- planetary probe history\\n    leech@cs.unc.edu (Jon Leech)\\t\\t- crater diameters\\n    lfa@ssi.com (Lou Adornato)\\t\\t\\t- orbital dynamics\\n    maury.markowitz@egsgate.fidonet.org (Maury Markowitz)   - propulsion\\n    max@west.darkside.com (Erik Max Francis)\\t- equations\\n    mbellon@mcdurb.Urbana.Gould.COM\\t\\t- N-body calculations\\n    mcconley@phoenix.Princeton.edu (Marc Wayne Mcconley)    - space careers\\n    msb@sq.com (Mark Brader)\\t\\t\\t- Mariner 1 info.\\n    mwm@cmu.edu (Mark Maimone)\\t\\t\\t- SPACE Digest\\n    nickw@syma.sussex.ac.uk (Dr. Nick Watkins)\\t- models, spysats\\n    ohainaut@eso.org (Olivier R. Hainaut)\\t- publishers, STARCAT\\n    oneil@aio.jsc.nasa.gov (Graham O\\'Neil)\\t- Lunar Prospector\\n    panama@cup.portal.com (Kenneth W Durham)\\t- cometary orbits, IAU\\n    paul.blase@nss.fidonet.org (Paul Blase)\\t- propulsion\\n    pjs@plato.jpl.nasa.gov (Peter Scott)\\t- RTGs\\n    pschleck@unomaha.edu (Paul W. Schleck)\\t- AMSAT, ARRL contact info\\n    rdb@mel.cocam.oz.au (Rodney Brown)\\t\\t- propulsion refs\\n    rja7m@phil.cs.virginia.edu (Ran Atkinson)\\t- FTPable astro. programs\\n    rjungcla@ihlpb.att.com (R. Michael Jungclas)- models\\n    roelle@sigi.jhuapl.edu (Curt Roelle)\\t- German mnemonic translation\\n    seal@leonardo.jpl.nasa.gov (David Seal)\\t- Cassini mission schedule\\n    shafer@skipper.dfrf.nasa.gov (Mary Shafer)\\t- photos, shuttle landings\\n    smith@sndpit.enet.dec.com (Willie Smith)\\t- photos\\n    stephen@gpwd.gp.co.nz (Stephen Dixon)\\t- shuttle audio frequencies\\n    sterner@warper.jhuapl.edu (Ray Sterner)\\t- planetary positions\\n    stooke@vaxr.sscl.uwo.ca (Phil Stooke)\\t- planetary maps\\n    ted_anderson@transarc.com (Ted Anderson)\\t- propulsion\\n    terry@astro.as.utexas.edu (Terry Hancock)\\t- NASA center info\\n    thorson@typhoon.atmos.coloState.edu (Bill Thorson) - FITS info\\n    tm2b+@andrew.cmu.edu (Todd L. Masco)\\t- SPACE Digest\\n    tom@ssd.csd.harris.com (Tom Horsley)\\t- refs for algorithms\\n    veikko.makela@helsinki.fi (Veikko Makela)\\t- orbital element sets\\n    Wales.Larrison@ofa123.fidonet.org (Wales Larrison) - groups & publications\\n    wayne@csri.utoronto.ca (Wayne Hayes)\\t- constants\\n    weemba@libra.wistar.upenn.edu (Matthew P Wiener) - Voyager history\\n    yamada@yscvax.ysc.go.jp (Yoshiro Yamada)\\t- ISAS/NASDA missions\\n    yee@ames.arc.nasa.gov (Peter Yee)\\t\\t- AMES archive server,\\n\\tpropulsion\\n\\n    In Net memoriam:\\n\\tTed Flinn\\n\\nNEXT: FAQ #2/15 - Network Resources\\n']\n"
          ]
        }
      ],
      "source": [
        "print(train_samples[:1])"
      ]
    },
    {
      "cell_type": "code",
      "execution_count": null,
      "metadata": {
        "colab": {
          "base_uri": "https://localhost:8080/"
        },
        "id": "shNMr6obFS8A",
        "outputId": "252c5dc7-a165-4f50-e157-5b00783416ca"
      },
      "outputs": [
        {
          "name": "stdout",
          "output_type": "stream",
          "text": [
            "['\\nI\\'ve noticed that is has become fashionable lately in rsb to predict\\nthe Marlines to finish ahead of the Cubs....how?\\n\\nFirst Base:\\n\\nGrace vs Destrade...Could Destrade be the second coming of Cecil\\nFielder? I doubt it. If Destrade performs to the height of expectations,\\nthen even, otherwise, edge to Cubs\\n\\nSecond Base:\\n\\nSandberg vs Barberie...No contest. Sandberg will be back May 1. Edge\\nto Cubs...a big edge.\\n\\nShortstop:\\n\\nVizcaino vs Weiss...Vizcaino is excellent defensively, but is an\\nautomatic out at bat. Weiss isn\\'t much better with the stick. Even.\\n\\nThird Base:\\n\\nDave Magadan vs Buechelle...Magadan has a higher OBP and is a better hitter.\\nBuechelle has more power and is better defensively (I think) Edge to\\nFlorida.\\n\\nCatcher: \\n\\nSantiago vs Wilkins...Wilkins is OK, but Santiago is better. Edge to\\nMarlins\\n\\nLeft Field:\\n\\nConine vs Maldonado...Wow! 4 for 4 yesterday...I know Conine has potential.\\nI watched him play at Omaha the last couple years. Until he actually proves\\nhimself, I give Maldonado the edge, however, like at 1B, this is position\\nwhere Florida might be even or better *if* the player there has a huge year.\\n\\nCenter:\\n\\nScott Pose vs Wilson/May...Edge to May, even if Wilson. Hopefully the\\nCubs will use may and save Wilson for pinch running and the like. May\\nisn\\'t Ken Griffey Jr, but he will hit .275 with 15 homers if he plays\\nfull time.\\n\\nRight:\\n\\nFelix vs Sosa...Felix Jose has occasional power and a bad OBP. So does\\nSosa, but Sosa also has speed and a good glove. Edge to Cubs\\n\\nStarters:\\n\\nAquino? Armstrong? Hammond? A lot of fifth starters here. The Cubs won\\'t\\nremind anyone of the Brave staff, but Morgan-Castillo-Guzman-Hibbard\\nis average to OK...better than the Marline. Edge to Cubs\\n\\nMiddle Relief:\\n\\nEven. The Cubs have some decent middlemen, and so do the Marlins.\\nCarpenter anf Klink or decent, but so are Assenmacher and McElroy.\\n\\nCloser:\\n\\nA healthy Harvey is a big edge to the Marlins. Meyers is decent, but\\nno Harvey. Of course, the Cubs may have a few more games to save.\\nLook for 30 saves, 5 blown from Meyers, and 25 saves, 3 blown (with\\na better ERA) for Harvey. Edge Florida.\\n\\nOverall, an edge to Chicago.\\nNeither of these teams will threaten to win anything, of course.\\ne\\n--\\nmsilverm@nyx.cs.du.edu\\t\\t\\t\\tGO CUBS!!!\\n\\n\"One likes to believe in the freedom of baseball\" - Geddy Lee\\n']\n"
          ]
        }
      ],
      "source": [
        "print(val_samples[:1])"
      ]
    },
    {
      "cell_type": "code",
      "execution_count": null,
      "metadata": {
        "colab": {
          "base_uri": "https://localhost:8080/"
        },
        "id": "w6421r4oFS8A",
        "outputId": "b88714ac-813b-49b2-a6ea-43a9ba2cb402"
      },
      "outputs": [
        {
          "name": "stdout",
          "output_type": "stream",
          "text": [
            "[10]\n"
          ]
        }
      ],
      "source": [
        "print(train_labels[:1])"
      ]
    },
    {
      "cell_type": "code",
      "execution_count": null,
      "metadata": {
        "colab": {
          "base_uri": "https://localhost:8080/"
        },
        "id": "2hB6xnkEFS8A",
        "outputId": "76b8cc22-30a0-453d-87f8-13b9fb0f2198"
      },
      "outputs": [
        {
          "name": "stdout",
          "output_type": "stream",
          "text": [
            "[6]\n"
          ]
        }
      ],
      "source": [
        "print(val_labels[:1])"
      ]
    },
    {
      "cell_type": "markdown",
      "metadata": {
        "id": "IktOtKfpNx8E"
      },
      "source": [
        "# Tokenización de las palabras con TextVectorization"
      ]
    },
    {
      "cell_type": "code",
      "execution_count": null,
      "metadata": {
        "id": "QjHgQPX8lCjO"
      },
      "outputs": [],
      "source": [
        "from tensorflow.keras.layers import TextVectorization\n",
        "vectorizer = TextVectorization(max_tokens=20000, output_sequence_length=200)\n",
        "text_ds = tf.data.Dataset.from_tensor_slices(train_samples).batch(128)\n",
        "vectorizer.adapt(text_ds)"
      ]
    },
    {
      "cell_type": "code",
      "execution_count": null,
      "metadata": {
        "colab": {
          "base_uri": "https://localhost:8080/"
        },
        "id": "vIWC37s5smZ4",
        "outputId": "81097f73-eb1a-483c-fea9-e355db2d74e9"
      },
      "outputs": [
        {
          "data": {
            "text/plain": [
              "['', '[UNK]', 'the', 'to', 'of']"
            ]
          },
          "execution_count": 19,
          "metadata": {},
          "output_type": "execute_result"
        }
      ],
      "source": [
        "vectorizer.get_vocabulary()[:5]"
      ]
    },
    {
      "cell_type": "code",
      "execution_count": null,
      "metadata": {
        "colab": {
          "base_uri": "https://localhost:8080/"
        },
        "id": "vit8TPqTvmwS",
        "outputId": "962d2b8c-2a06-4cff-d3eb-9c28ee7c968b"
      },
      "outputs": [
        {
          "data": {
            "text/plain": [
              "20000"
            ]
          },
          "execution_count": 20,
          "metadata": {},
          "output_type": "execute_result"
        }
      ],
      "source": [
        "len(vectorizer.get_vocabulary())"
      ]
    },
    {
      "cell_type": "markdown",
      "metadata": {
        "id": "2O-FXA9wPVkg"
      },
      "source": [
        "# Viendo la salida de Vectorizer"
      ]
    },
    {
      "cell_type": "code",
      "execution_count": null,
      "metadata": {
        "colab": {
          "base_uri": "https://localhost:8080/"
        },
        "id": "rseIF0fLmyJ0",
        "outputId": "9795d462-81dc-4ab0-9fc4-a757c250a08e"
      },
      "outputs": [
        {
          "data": {
            "text/plain": [
              "array([   2, 3732, 2072,   18,    2, 4523])"
            ]
          },
          "execution_count": 21,
          "metadata": {},
          "output_type": "execute_result"
        }
      ],
      "source": [
        "output = vectorizer([[\"the cat sat on the mat\"]])\n",
        "output.numpy()[0, :6]"
      ]
    },
    {
      "cell_type": "code",
      "execution_count": null,
      "metadata": {
        "colab": {
          "base_uri": "https://localhost:8080/"
        },
        "id": "Wsr4AQtBFArV",
        "outputId": "fd682245-ac5a-42a3-a20d-bfb9d48abdb3"
      },
      "outputs": [
        {
          "data": {
            "text/plain": [
              "<tf.Tensor: shape=(1, 200), dtype=int64, numpy=\n",
              "array([[   2, 3732, 2072,   18,    2, 4523,    0,    0,    0,    0,    0,\n",
              "           0,    0,    0,    0,    0,    0,    0,    0,    0,    0,    0,\n",
              "           0,    0,    0,    0,    0,    0,    0,    0,    0,    0,    0,\n",
              "           0,    0,    0,    0,    0,    0,    0,    0,    0,    0,    0,\n",
              "           0,    0,    0,    0,    0,    0,    0,    0,    0,    0,    0,\n",
              "           0,    0,    0,    0,    0,    0,    0,    0,    0,    0,    0,\n",
              "           0,    0,    0,    0,    0,    0,    0,    0,    0,    0,    0,\n",
              "           0,    0,    0,    0,    0,    0,    0,    0,    0,    0,    0,\n",
              "           0,    0,    0,    0,    0,    0,    0,    0,    0,    0,    0,\n",
              "           0,    0,    0,    0,    0,    0,    0,    0,    0,    0,    0,\n",
              "           0,    0,    0,    0,    0,    0,    0,    0,    0,    0,    0,\n",
              "           0,    0,    0,    0,    0,    0,    0,    0,    0,    0,    0,\n",
              "           0,    0,    0,    0,    0,    0,    0,    0,    0,    0,    0,\n",
              "           0,    0,    0,    0,    0,    0,    0,    0,    0,    0,    0,\n",
              "           0,    0,    0,    0,    0,    0,    0,    0,    0,    0,    0,\n",
              "           0,    0,    0,    0,    0,    0,    0,    0,    0,    0,    0,\n",
              "           0,    0,    0,    0,    0,    0,    0,    0,    0,    0,    0,\n",
              "           0,    0,    0,    0,    0,    0,    0,    0,    0,    0,    0,\n",
              "           0,    0]])>"
            ]
          },
          "execution_count": 22,
          "metadata": {},
          "output_type": "execute_result"
        }
      ],
      "source": [
        "output"
      ]
    },
    {
      "cell_type": "code",
      "execution_count": null,
      "metadata": {
        "id": "SL5ag8UamzwL"
      },
      "outputs": [],
      "source": [
        "voc = vectorizer.get_vocabulary()\n",
        "word_index = dict(zip(voc, range(len(voc))))"
      ]
    },
    {
      "cell_type": "code",
      "execution_count": null,
      "metadata": {
        "colab": {
          "base_uri": "https://localhost:8080/"
        },
        "id": "08v8SKcsn3lf",
        "outputId": "76628dda-ecb4-4147-bd66-b16bec7d7f0a"
      },
      "outputs": [
        {
          "data": {
            "text/plain": [
              "[2, 3732, 2072, 18, 2, 4523]"
            ]
          },
          "execution_count": 24,
          "metadata": {},
          "output_type": "execute_result"
        }
      ],
      "source": [
        "test = [\"the\", \"cat\", \"sat\", \"on\", \"the\", \"mat\"]\n",
        "[word_index[w] for w in test]"
      ]
    },
    {
      "cell_type": "markdown",
      "metadata": {
        "id": "1eBhadrvOTNZ"
      },
      "source": [
        "# Tokenización de los datos de entrenamiento y validación"
      ]
    },
    {
      "cell_type": "code",
      "execution_count": null,
      "metadata": {
        "id": "W26LUr2dKTOj"
      },
      "outputs": [],
      "source": [
        "x_train = vectorizer(np.array([[s] for s in train_samples])).numpy()\n",
        "x_val = vectorizer(np.array([[s] for s in val_samples])).numpy()\n",
        "\n",
        "y_train = np.array(train_labels)\n",
        "y_val = np.array(val_labels)"
      ]
    },
    {
      "cell_type": "markdown",
      "metadata": {
        "id": "q3QVIb84Olda"
      },
      "source": [
        "# Creación y entrenamiento del modelo. Red Neuronal Clásica"
      ]
    },
    {
      "cell_type": "code",
      "execution_count": null,
      "metadata": {
        "id": "B9VxI-i69cdB"
      },
      "outputs": [],
      "source": [
        "modeloClasico = keras.models.Sequential()\n",
        "modeloClasico.add(keras.layers.Embedding(20000, 10, input_length=200))\n",
        "modeloClasico.add(keras.layers.Flatten())\n",
        "modeloClasico.add(keras.layers.Dense(512, activation='relu'))\n",
        "modeloClasico.add(keras.layers.Dropout(0.3))\n",
        "modeloClasico.add(keras.layers.Dense(len(class_names), activation='softmax'))"
      ]
    },
    {
      "cell_type": "code",
      "execution_count": null,
      "metadata": {
        "colab": {
          "base_uri": "https://localhost:8080/"
        },
        "id": "nEXXWuhx3YtX",
        "outputId": "0cc34ee1-6ecd-4b6d-e51a-c36661532bc8"
      },
      "outputs": [
        {
          "name": "stdout",
          "output_type": "stream",
          "text": [
            "Epoch 1/20\n",
            "94/94 [==============================] - 14s 117ms/step - loss: 2.6176 - acc: 0.1269 - val_loss: 2.4640 - val_acc: 0.1841\n",
            "Epoch 2/20\n",
            "94/94 [==============================] - 11s 118ms/step - loss: 2.1166 - acc: 0.3046 - val_loss: 1.8674 - val_acc: 0.3371\n",
            "Epoch 3/20\n",
            "94/94 [==============================] - 7s 71ms/step - loss: 1.4670 - acc: 0.5279 - val_loss: 1.4322 - val_acc: 0.4935\n",
            "Epoch 4/20\n",
            "94/94 [==============================] - 5s 52ms/step - loss: 0.9753 - acc: 0.7052 - val_loss: 1.1646 - val_acc: 0.5722\n",
            "Epoch 5/20\n",
            "94/94 [==============================] - 6s 62ms/step - loss: 0.6455 - acc: 0.8122 - val_loss: 0.9769 - val_acc: 0.6536\n",
            "Epoch 6/20\n",
            "94/94 [==============================] - 4s 40ms/step - loss: 0.4289 - acc: 0.8799 - val_loss: 0.9231 - val_acc: 0.6712\n",
            "Epoch 7/20\n",
            "94/94 [==============================] - 3s 32ms/step - loss: 0.3012 - acc: 0.9131 - val_loss: 0.8769 - val_acc: 0.6999\n",
            "Epoch 8/20\n",
            "94/94 [==============================] - 3s 30ms/step - loss: 0.2212 - acc: 0.9357 - val_loss: 0.8533 - val_acc: 0.7139\n",
            "Epoch 9/20\n",
            "94/94 [==============================] - 4s 41ms/step - loss: 0.1734 - acc: 0.9478 - val_loss: 0.8684 - val_acc: 0.7179\n",
            "Epoch 10/20\n",
            "94/94 [==============================] - 2s 22ms/step - loss: 0.1471 - acc: 0.9534 - val_loss: 0.8994 - val_acc: 0.7199\n",
            "Epoch 11/20\n",
            "94/94 [==============================] - 2s 18ms/step - loss: 0.1294 - acc: 0.9554 - val_loss: 0.9023 - val_acc: 0.7216\n",
            "Epoch 12/20\n",
            "94/94 [==============================] - 2s 18ms/step - loss: 0.1177 - acc: 0.9572 - val_loss: 0.9180 - val_acc: 0.7246\n",
            "Epoch 13/20\n",
            "94/94 [==============================] - 2s 23ms/step - loss: 0.1040 - acc: 0.9607 - val_loss: 0.9038 - val_acc: 0.7289\n",
            "Epoch 14/20\n",
            "94/94 [==============================] - 2s 23ms/step - loss: 0.1005 - acc: 0.9605 - val_loss: 0.9265 - val_acc: 0.7302\n",
            "Epoch 15/20\n",
            "94/94 [==============================] - 2s 22ms/step - loss: 0.0924 - acc: 0.9616 - val_loss: 0.9462 - val_acc: 0.7309\n",
            "Epoch 16/20\n",
            "94/94 [==============================] - 1s 14ms/step - loss: 0.0893 - acc: 0.9599 - val_loss: 0.9507 - val_acc: 0.7272\n",
            "Epoch 17/20\n",
            "94/94 [==============================] - 2s 18ms/step - loss: 0.0876 - acc: 0.9615 - val_loss: 0.9454 - val_acc: 0.7326\n",
            "Epoch 18/20\n",
            "94/94 [==============================] - 2s 17ms/step - loss: 0.0845 - acc: 0.9609 - val_loss: 0.9469 - val_acc: 0.7389\n",
            "Epoch 19/20\n",
            "94/94 [==============================] - 1s 13ms/step - loss: 0.0826 - acc: 0.9627 - val_loss: 0.9572 - val_acc: 0.7319\n",
            "Epoch 20/20\n",
            "94/94 [==============================] - 1s 8ms/step - loss: 0.0792 - acc: 0.9622 - val_loss: 0.9980 - val_acc: 0.7322\n",
            "Model: \"sequential\"\n",
            "_________________________________________________________________\n",
            " Layer (type)                Output Shape              Param #   \n",
            "=================================================================\n",
            " embedding (Embedding)       (None, 200, 10)           200000    \n",
            "                                                                 \n",
            " flatten (Flatten)           (None, 2000)              0         \n",
            "                                                                 \n",
            " dense (Dense)               (None, 512)               1024512   \n",
            "                                                                 \n",
            " dropout (Dropout)           (None, 512)               0         \n",
            "                                                                 \n",
            " dense_1 (Dense)             (None, 15)                7695      \n",
            "                                                                 \n",
            "=================================================================\n",
            "Total params: 1232207 (4.70 MB)\n",
            "Trainable params: 1232207 (4.70 MB)\n",
            "Non-trainable params: 0 (0.00 Byte)\n",
            "_________________________________________________________________\n",
            "None\n"
          ]
        }
      ],
      "source": [
        "modeloClasico.compile(optimizer='adam', loss='binary_crossentropy', metrics=['accuracy'])\n",
        "modeloClasico.compile(loss=\"sparse_categorical_crossentropy\", optimizer=\"rmsprop\", metrics=[\"acc\"])\n",
        "modeloClasico.fit(x_train, y_train, batch_size=128, epochs=20, validation_data=(x_val, y_val))\n",
        "print(modeloClasico.summary())"
      ]
    },
    {
      "cell_type": "markdown",
      "metadata": {
        "id": "v4x_4eXJVrnX"
      },
      "source": [
        "# Evaluación"
      ]
    },
    {
      "cell_type": "code",
      "execution_count": null,
      "metadata": {
        "colab": {
          "base_uri": "https://localhost:8080/",
          "height": 53
        },
        "id": "fgg7KnoioNYc",
        "outputId": "2f91fb3b-9da6-4bdb-e2b4-3d4216db7579"
      },
      "outputs": [
        {
          "name": "stdout",
          "output_type": "stream",
          "text": [
            "1/1 [==============================] - 0s 167ms/step\n"
          ]
        },
        {
          "data": {
            "application/vnd.google.colaboratory.intrinsic+json": {
              "type": "string"
            },
            "text/plain": [
              "'comp.graphics'"
            ]
          },
          "execution_count": 33,
          "metadata": {},
          "output_type": "execute_result"
        }
      ],
      "source": [
        "string_input = keras.Input(shape=(1,), dtype=\"string\")\n",
        "x = vectorizer(string_input)\n",
        "preds = modeloClasico(x)\n",
        "end_to_end_model = keras.Model(string_input, preds)\n",
        "\n",
        "probabilities = end_to_end_model.predict(\n",
        "    [['this message is about computer graphics and 3D modeling']]\n",
        ")\n",
        "\n",
        "class_names[np.argmax(probabilities[0])]"
      ]
    },
    {
      "cell_type": "code",
      "execution_count": null,
      "metadata": {
        "colab": {
          "base_uri": "https://localhost:8080/",
          "height": 53
        },
        "id": "R-EXfK6qoSAd",
        "outputId": "fd91cfa0-0848-4dbe-f6af-2449c77c3245"
      },
      "outputs": [
        {
          "name": "stdout",
          "output_type": "stream",
          "text": [
            "1/1 [==============================] - 0s 55ms/step\n"
          ]
        },
        {
          "data": {
            "application/vnd.google.colaboratory.intrinsic+json": {
              "type": "string"
            },
            "text/plain": [
              "'talk.politics.guns'"
            ]
          },
          "execution_count": 34,
          "metadata": {},
          "output_type": "execute_result"
        }
      ],
      "source": [
        "probabilities = end_to_end_model.predict(\n",
        "    [[\"politics and federal courts law that people understand with politician and elects congressman\"]]\n",
        ")\n",
        "\n",
        "class_names[np.argmax(probabilities[0])]"
      ]
    },
    {
      "cell_type": "code",
      "execution_count": null,
      "metadata": {
        "colab": {
          "base_uri": "https://localhost:8080/",
          "height": 53
        },
        "id": "QByfYDv4rGqv",
        "outputId": "331fa644-90dd-4634-e68d-7fef5dbdab39"
      },
      "outputs": [
        {
          "name": "stdout",
          "output_type": "stream",
          "text": [
            "1/1 [==============================] - 0s 31ms/step\n"
          ]
        },
        {
          "data": {
            "application/vnd.google.colaboratory.intrinsic+json": {
              "type": "string"
            },
            "text/plain": [
              "'comp.windows.x'"
            ]
          },
          "execution_count": 35,
          "metadata": {},
          "output_type": "execute_result"
        }
      ],
      "source": [
        "probabilities = end_to_end_model.predict(\n",
        "    [[\"we are talking about religion\"]]\n",
        ")\n",
        "\n",
        "class_names[np.argmax(probabilities[0])]"
      ]
    }
  ],
  "metadata": {
    "accelerator": "GPU",
    "colab": {
      "provenance": []
    },
    "gpuClass": "standard",
    "kernelspec": {
      "display_name": "Python 3",
      "language": "python",
      "name": "python3"
    },
    "language_info": {
      "codemirror_mode": {
        "name": "ipython",
        "version": 3
      },
      "file_extension": ".py",
      "mimetype": "text/x-python",
      "name": "python",
      "nbconvert_exporter": "python",
      "pygments_lexer": "ipython3",
      "version": "3.11.7"
    }
  },
  "nbformat": 4,
  "nbformat_minor": 0
}
